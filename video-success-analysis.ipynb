{
 "cells": [
  {
   "cell_type": "markdown",
   "metadata": {},
   "source": [
    "# Final Project\n",
    "\n",
    "CS 5830 - Data Science in Practice\n",
    "\n",
    "Ann Marie Humble & Emma Lynn May"
   ]
  },
  {
   "cell_type": "code",
   "execution_count": null,
   "metadata": {},
   "outputs": [],
   "source": [
    "import pandas as pd\n",
    "import matplotlib.pyplot as plt\n",
    "from scipy import stats\n",
    "import seaborn as sns\n",
    "import isodate"
   ]
  },
  {
   "cell_type": "code",
   "execution_count": null,
   "metadata": {},
   "outputs": [],
   "source": [
    "#How much an advertiser pays for every 1000 views\n",
    "    #Sources:\n",
    "    #Yahoo Finance & UberConnect\n",
    "AD_REVENUE_CPM = {\n",
    "    'Slam Poetry': 0.36,\n",
    "    'Minecraft': 0.44,\n",
    "    'Movie Scenes': 1.24,\n",
    "    'Woodworking': 3.02,\n",
    "    'Space Songs': 0.01,\n",
    "    'Ancient Memes': 0.00,\n",
    "    'Health': 14.5,\n",
    "    'Travel': 17.5,\n",
    "    'Personal Finance': 18,\n",
    "    'USU': 1.5\n",
    "}"
   ]
  },
  {
   "cell_type": "code",
   "execution_count": null,
   "metadata": {},
   "outputs": [],
   "source": [
    "# youtube = pd.read_csv('tiny-data.csv')\n",
    "# youtube = pd.read_csv('new-youtube-data.csv')\n",
    "youtube = pd.read_csv('youtube-data.csv')"
   ]
  },
  {
   "cell_type": "code",
   "execution_count": null,
   "metadata": {},
   "outputs": [],
   "source": [
    "youtube['viewCount'] = pd.to_numeric(youtube['viewCount'])\n",
    "youtube['likeCount'] = pd.to_numeric(youtube['likeCount'])\n",
    "\n",
    "youtube['genreCPM'] = youtube['genre'].map(AD_REVENUE_CPM)\n",
    "youtube['adRevenue'] = (youtube['viewCount'] / 1000) * youtube['genreCPM']\n",
    "\n",
    "# Normalize columns using min-max normalization\n",
    "youtube['norm_adRevenue'] = (youtube['adRevenue'] - youtube['adRevenue'].min()) / (youtube['adRevenue'].max() - youtube['adRevenue'].min())\n",
    "youtube['norm_viewCount'] = (youtube['viewCount'] - youtube['viewCount'].min()) / (youtube['viewCount'].max() - youtube['viewCount'].min())\n",
    "youtube['norm_likeCount'] = (youtube['likeCount'] - youtube['likeCount'].min()) / (youtube['likeCount'].max() - youtube['likeCount'].min())\n",
    "\n",
    "youtube['success'] = round((youtube['norm_adRevenue'] + youtube['norm_viewCount'] + youtube['norm_likeCount']) / 3, 7)\n",
    "\n",
    "youtube[\"durationSeconds\"] = youtube[\"duration\"].apply(lambda x: isodate.parse_duration(x).total_seconds())\n",
    "\n",
    "youtube.dropna(subset=['description'], inplace=True)\n",
    "youtube['descriptionLen'] = youtube['description'].str.len()\n",
    "youtube.dropna(subset=['title'], inplace=True)\n",
    "youtube['titleLen'] = youtube['title'].str.len()\n",
    "\n",
    "youtube"
   ]
  },
  {
   "cell_type": "code",
   "execution_count": null,
   "metadata": {},
   "outputs": [],
   "source": [
    "plt.figure(figsize=(10, 6))\n",
    "genres = youtube['genre'].unique()  # Unique genres for color mapping\n",
    "colors = plt.cm.tab10(range(len(genres)))  # Assign unique colors\n",
    "\n",
    "for genre, color in zip(genres, colors):\n",
    "    genre_data = youtube[youtube['genre'] == genre]  # Filter data by genre\n",
    "    plt.scatter(genre_data.index, genre_data['success'], label=genre, color=color, s=100)\n",
    "\n",
    "# Customizing the plot\n",
    "plt.title(\"Success by Genre\", fontsize=16)\n",
    "plt.xlabel(\"Index\", fontsize=12)\n",
    "plt.ylabel(\"Success\", fontsize=12)\n",
    "plt.legend(title=\"Genre\")\n",
    "plt.grid(True)\n",
    "plt.show()"
   ]
  },
  {
   "cell_type": "code",
   "execution_count": null,
   "metadata": {},
   "outputs": [],
   "source": [
    "genre_success_normalized = youtube.groupby('genre')['success'].mean()\n",
    "\n",
    "# Plotting the normalized bar graph\n",
    "plt.figure(figsize=(10, 6))\n",
    "genre_success_normalized.sort_values().plot(kind='bar', color=plt.cm.tab10(range(len(genre_success_normalized))), edgecolor='black')\n",
    "\n",
    "# Customizing the plot\n",
    "plt.title(\"Normalized Success by Genre\", fontsize=16)\n",
    "plt.xlabel(\"Genre\", fontsize=12)\n",
    "plt.ylabel(\"Average Success (Normalized)\", fontsize=12)\n",
    "plt.xticks(rotation=45, fontsize=10)\n",
    "plt.grid(axis='y', linestyle='--', alpha=0.7)\n",
    "\n",
    "plt.show()"
   ]
  },
  {
   "cell_type": "code",
   "execution_count": null,
   "metadata": {},
   "outputs": [],
   "source": [
    "# Remove outliers using IQR method\n",
    "Q1 = youtube['success'].quantile(0.25)\n",
    "Q3 = youtube['success'].quantile(0.75)\n",
    "IQR = Q3 - Q1\n",
    "df_no_outliers = youtube[(youtube['success'] >= (Q1 - 1.5 * IQR)) & (youtube['success'] <= (Q3 + 1.5 * IQR))]\n",
    "\n",
    "# Scatter plot\n",
    "plt.figure(figsize=(10, 6))\n",
    "genres = df_no_outliers['genre'].unique()  # Unique genres for color mapping\n",
    "colors = plt.cm.tab10(range(len(genres)))  # Assign unique colors\n",
    "\n",
    "for genre, color in zip(genres, colors):\n",
    "    genre_data = df_no_outliers[df_no_outliers['genre'] == genre]  # Filter data by genre\n",
    "    plt.scatter(genre_data.index, genre_data['success'], label=genre, color=color, s=100)\n",
    "\n",
    "# Customizing the plot\n",
    "plt.title(\"Success by Genre (No Outliers)\", fontsize=16)\n",
    "plt.xlabel(\"Index\", fontsize=12)\n",
    "plt.ylabel(\"Success\", fontsize=12)\n",
    "plt.legend(title=\"Genre\")\n",
    "plt.grid(True)\n",
    "plt.show()"
   ]
  },
  {
   "cell_type": "code",
   "execution_count": null,
   "metadata": {},
   "outputs": [],
   "source": [
    "# Group the data by 'genre' and calculate the mean 'success' normalized by group size\n",
    "genre_success_normalized = df_no_outliers.groupby('genre')['success'].mean()\n",
    "\n",
    "# Plotting the normalized bar graph\n",
    "plt.figure(figsize=(10, 6))\n",
    "genre_success_normalized.sort_values().plot(kind='bar', color=plt.cm.tab10(range(len(genre_success_normalized))), edgecolor='black')\n",
    "\n",
    "# Customizing the plot\n",
    "plt.title(\"Normalized Success by Genre (No Outliers)\", fontsize=16)\n",
    "plt.xlabel(\"Genre\", fontsize=12)\n",
    "plt.ylabel(\"Average Success (Normalized)\", fontsize=12)\n",
    "plt.xticks(rotation=45, fontsize=10)\n",
    "plt.grid(axis='y', linestyle='--', alpha=0.7)\n",
    "\n",
    "plt.show()"
   ]
  },
  {
   "cell_type": "code",
   "execution_count": null,
   "metadata": {},
   "outputs": [],
   "source": [
    "# Group the data by 'genre' and calculate the mean 'adRevenue' normalized by group size\n",
    "genre_success_normalized = df_no_outliers.groupby('genre')['adRevenue'].mean()\n",
    "\n",
    "# Plotting the normalized bar graph\n",
    "plt.figure(figsize=(10, 6))\n",
    "genre_success_normalized.sort_values().plot(kind='bar', color=plt.cm.tab10(range(len(genre_success_normalized))), edgecolor='black')\n",
    "\n",
    "# Customizing the plot\n",
    "plt.title(\"Normalized Estimated Ad Revenue by Genre (No Outliers)\", fontsize=16)\n",
    "plt.xlabel(\"Genre\", fontsize=12)\n",
    "plt.ylabel(\"Average Estimated Ad Revenue (Normalized)\", fontsize=12)\n",
    "plt.xticks(rotation=45, fontsize=10)\n",
    "plt.grid(axis='y', linestyle='--', alpha=0.7)\n",
    "\n",
    "plt.show()"
   ]
  },
  {
   "cell_type": "code",
   "execution_count": null,
   "metadata": {},
   "outputs": [],
   "source": [
    "# Remove outliers using IQR method\n",
    "Q1 = youtube['adRevenue'].quantile(0.25)\n",
    "Q3 = youtube['adRevenue'].quantile(0.75)\n",
    "IQR = Q3 - Q1\n",
    "df_no_outliers = youtube[(youtube['adRevenue'] >= (Q1 - 1.5 * IQR)) & (youtube['adRevenue'] <= (Q3 + 1.5 * IQR))]\n",
    "\n",
    "# Scatter plot\n",
    "plt.figure(figsize=(10, 6))\n",
    "genres = df_no_outliers['genre'].unique()  # Unique genres for color mapping\n",
    "colors = plt.cm.tab10(range(len(genres)))  # Assign unique colors\n",
    "\n",
    "for genre, color in zip(genres, colors):\n",
    "    genre_data = df_no_outliers[df_no_outliers['genre'] == genre]  # Filter data by genre\n",
    "    plt.scatter(genre_data.index, genre_data['adRevenue'], label=genre, color=color, s=100)\n",
    "\n",
    "# Customizing the plot\n",
    "plt.title(\"Estimated Ad Revenue by Genre (No Outliers)\", fontsize=16)\n",
    "plt.xlabel(\"Index\", fontsize=12)\n",
    "plt.ylabel(\"Estimated Ad Revenue\", fontsize=12)\n",
    "plt.legend(title=\"Genre\")\n",
    "plt.grid(True)\n",
    "plt.show()"
   ]
  },
  {
   "cell_type": "code",
   "execution_count": null,
   "metadata": {},
   "outputs": [],
   "source": [
    "youtube.dropna(subset=['success'], inplace=True)"
   ]
  },
  {
   "cell_type": "code",
   "execution_count": null,
   "metadata": {},
   "outputs": [],
   "source": [
    "print(\"What attributes are correlated with successful videos?\")\n",
    "\n",
    "corr, pval = stats.pearsonr(df_no_outliers[\"durationSeconds\"], df_no_outliers[\"success\"])\n",
    "print(f\"Length: {round(corr, 3)}, p-value: {round(pval, 3)}\")\n",
    "\n",
    "corr, pval = stats.pearsonr(df_no_outliers[\"caption\"], df_no_outliers[\"success\"])\n",
    "print(f\"Caption Status: {round(corr, 3)}, p-value: {round(pval, 3)}\")\n",
    "\n",
    "corr, pval = stats.pearsonr(df_no_outliers[\"descriptionLen\"], df_no_outliers[\"success\"])\n",
    "print(f\"Description Length: {round(corr, 3)}, p-value: {round(pval, 3)}\")\n",
    "\n",
    "corr, pval = stats.pearsonr(df_no_outliers[\"titleLen\"], df_no_outliers[\"success\"])\n",
    "print(f\"Title Length: {round(corr, 3)}, p-value: {round(pval, 3)}\")\n",
    "\n",
    "corr, pval = stats.pearsonr(df_no_outliers[\"hasPaidProductPlacement\"], df_no_outliers[\"success\"])\n",
    "print(f\"Paid Product Placement: {round(corr, 3)}, p-value: {round(pval, 3)}\")"
   ]
  },
  {
   "cell_type": "code",
   "execution_count": null,
   "metadata": {},
   "outputs": [],
   "source": [
    "sns.regplot(data=df_no_outliers, x='caption', y='success')\n",
    "plt.xlabel('Video Caption Status')\n",
    "plt.ylabel('Video \"Success\"')\n",
    "plt.show()"
   ]
  },
  {
   "cell_type": "code",
   "execution_count": null,
   "metadata": {},
   "outputs": [],
   "source": [
    "sns.regplot(data=df_no_outliers, x='descriptionLen', y='success')\n",
    "plt.xlabel('Description Length')\n",
    "plt.ylabel('Video \"Success\"')\n",
    "plt.show()"
   ]
  },
  {
   "cell_type": "code",
   "execution_count": null,
   "metadata": {},
   "outputs": [],
   "source": [
    "top_6 = youtube.nlargest(6, \"success\")\n",
    "print(top_6)"
   ]
  }
 ],
 "metadata": {
  "kernelspec": {
   "display_name": "my_env",
   "language": "python",
   "name": "python3"
  },
  "language_info": {
   "codemirror_mode": {
    "name": "ipython",
    "version": 3
   },
   "file_extension": ".py",
   "mimetype": "text/x-python",
   "name": "python",
   "nbconvert_exporter": "python",
   "pygments_lexer": "ipython3",
   "version": "3.13.0"
  }
 },
 "nbformat": 4,
 "nbformat_minor": 2
}
